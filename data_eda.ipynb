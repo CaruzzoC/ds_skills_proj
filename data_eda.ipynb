{
 "cells": [
  {
   "cell_type": "markdown",
   "metadata": {},
   "source": [
    "# Exploratory Data Analysis"
   ]
  },
  {
   "cell_type": "code",
   "execution_count": 1,
   "metadata": {},
   "outputs": [],
   "source": [
    "import pandas as pd\n",
    "import matplotlib.pyplot as plt\n",
    "import seaborn as sns"
   ]
  },
  {
   "cell_type": "code",
   "execution_count": 2,
   "metadata": {},
   "outputs": [],
   "source": [
    "df = pd.read_csv('salary_data_cleaned.csv')"
   ]
  },
  {
   "cell_type": "code",
   "execution_count": 3,
   "metadata": {},
   "outputs": [
    {
     "data": {
      "text/html": [
       "<div>\n",
       "<style scoped>\n",
       "    .dataframe tbody tr th:only-of-type {\n",
       "        vertical-align: middle;\n",
       "    }\n",
       "\n",
       "    .dataframe tbody tr th {\n",
       "        vertical-align: top;\n",
       "    }\n",
       "\n",
       "    .dataframe thead th {\n",
       "        text-align: right;\n",
       "    }\n",
       "</style>\n",
       "<table border=\"1\" class=\"dataframe\">\n",
       "  <thead>\n",
       "    <tr style=\"text-align: right;\">\n",
       "      <th></th>\n",
       "      <th>Company Name</th>\n",
       "      <th>Competitors</th>\n",
       "      <th>Founded</th>\n",
       "      <th>Headquarters</th>\n",
       "      <th>Industry</th>\n",
       "      <th>Job Description</th>\n",
       "      <th>Job Title</th>\n",
       "      <th>Location</th>\n",
       "      <th>Rating</th>\n",
       "      <th>Revenue</th>\n",
       "      <th>...</th>\n",
       "      <th>job_state</th>\n",
       "      <th>same_state</th>\n",
       "      <th>age</th>\n",
       "      <th>spark</th>\n",
       "      <th>aws</th>\n",
       "      <th>python_yn</th>\n",
       "      <th>phd_dg</th>\n",
       "      <th>master_dg</th>\n",
       "      <th>bachelor_dg</th>\n",
       "      <th>skills</th>\n",
       "    </tr>\n",
       "  </thead>\n",
       "  <tbody>\n",
       "    <tr>\n",
       "      <th>0</th>\n",
       "      <td>Carousel Industries\\r\\r\\n3.1</td>\n",
       "      <td>-1</td>\n",
       "      <td>1992</td>\n",
       "      <td>Exeter, RI</td>\n",
       "      <td>IT Services</td>\n",
       "      <td>Blending customer advisory, customer support, ...</td>\n",
       "      <td>Associate Business Intelligence Data Scientist</td>\n",
       "      <td>Exeter, RI</td>\n",
       "      <td>3.1</td>\n",
       "      <td>$500 million to $1 billion (USD)</td>\n",
       "      <td>...</td>\n",
       "      <td>RI</td>\n",
       "      <td>1</td>\n",
       "      <td>28</td>\n",
       "      <td>0</td>\n",
       "      <td>0</td>\n",
       "      <td>1</td>\n",
       "      <td>0</td>\n",
       "      <td>2</td>\n",
       "      <td>1</td>\n",
       "      <td>2</td>\n",
       "    </tr>\n",
       "    <tr>\n",
       "      <th>1</th>\n",
       "      <td>Spring Health\\r\\r\\n3.6</td>\n",
       "      <td>-1</td>\n",
       "      <td>2016</td>\n",
       "      <td>New York, NY</td>\n",
       "      <td>Health Care Services &amp; Hospitals</td>\n",
       "      <td>***Please note: All hiring and recruitment at ...</td>\n",
       "      <td>Data Scientist</td>\n",
       "      <td>New York, NY</td>\n",
       "      <td>3.6</td>\n",
       "      <td>Unknown / Non-Applicable</td>\n",
       "      <td>...</td>\n",
       "      <td>NY</td>\n",
       "      <td>1</td>\n",
       "      <td>4</td>\n",
       "      <td>0</td>\n",
       "      <td>0</td>\n",
       "      <td>1</td>\n",
       "      <td>3</td>\n",
       "      <td>0</td>\n",
       "      <td>1</td>\n",
       "      <td>3</td>\n",
       "    </tr>\n",
       "    <tr>\n",
       "      <th>2</th>\n",
       "      <td>INFICON\\r\\r\\n3.5</td>\n",
       "      <td>MKS Instruments, Pfeiffer Vacuum, Agilent Tech...</td>\n",
       "      <td>2000</td>\n",
       "      <td>Bad Ragaz, Switzerland</td>\n",
       "      <td>Electrical &amp; Electronic Manufacturing</td>\n",
       "      <td>JOB DESCRIPTION:\\r\\r\\n\\r\\r\\nDo you have a pass...</td>\n",
       "      <td>Data Scientist</td>\n",
       "      <td>Newton, MA</td>\n",
       "      <td>3.5</td>\n",
       "      <td>$100 to $500 million (USD)</td>\n",
       "      <td>...</td>\n",
       "      <td>MA</td>\n",
       "      <td>0</td>\n",
       "      <td>20</td>\n",
       "      <td>0</td>\n",
       "      <td>1</td>\n",
       "      <td>1</td>\n",
       "      <td>0</td>\n",
       "      <td>2</td>\n",
       "      <td>1</td>\n",
       "      <td>2</td>\n",
       "    </tr>\n",
       "    <tr>\n",
       "      <th>3</th>\n",
       "      <td>Zimmerman Advertising\\r\\r\\n3.7</td>\n",
       "      <td>-1</td>\n",
       "      <td>1984</td>\n",
       "      <td>Fort Lauderdale, FL</td>\n",
       "      <td>Advertising &amp; Marketing</td>\n",
       "      <td>Reporting to the Director, Marketing Analytics...</td>\n",
       "      <td>Business Intelligence Analyst</td>\n",
       "      <td>Fort Lauderdale, FL</td>\n",
       "      <td>3.7</td>\n",
       "      <td>Unknown / Non-Applicable</td>\n",
       "      <td>...</td>\n",
       "      <td>FL</td>\n",
       "      <td>1</td>\n",
       "      <td>36</td>\n",
       "      <td>0</td>\n",
       "      <td>0</td>\n",
       "      <td>0</td>\n",
       "      <td>0</td>\n",
       "      <td>2</td>\n",
       "      <td>1</td>\n",
       "      <td>2</td>\n",
       "    </tr>\n",
       "    <tr>\n",
       "      <th>4</th>\n",
       "      <td>Intuit - Data\\r\\r\\n4.5</td>\n",
       "      <td>Square, PayPal, H&amp;R Block</td>\n",
       "      <td>1983</td>\n",
       "      <td>Mountain View, CA</td>\n",
       "      <td>Computer Hardware &amp; Software</td>\n",
       "      <td>Intuit is seeking a Staff Data Scientist to co...</td>\n",
       "      <td>Staff Data Scientist - Analytics</td>\n",
       "      <td>San Diego, CA</td>\n",
       "      <td>4.5</td>\n",
       "      <td>$2 to $5 billion (USD)</td>\n",
       "      <td>...</td>\n",
       "      <td>CA</td>\n",
       "      <td>0</td>\n",
       "      <td>37</td>\n",
       "      <td>0</td>\n",
       "      <td>0</td>\n",
       "      <td>0</td>\n",
       "      <td>0</td>\n",
       "      <td>0</td>\n",
       "      <td>0</td>\n",
       "      <td>0</td>\n",
       "    </tr>\n",
       "  </tbody>\n",
       "</table>\n",
       "<p>5 rows × 29 columns</p>\n",
       "</div>"
      ],
      "text/plain": [
       "                     Company Name  \\\n",
       "0    Carousel Industries\\r\\r\\n3.1   \n",
       "1          Spring Health\\r\\r\\n3.6   \n",
       "2                INFICON\\r\\r\\n3.5   \n",
       "3  Zimmerman Advertising\\r\\r\\n3.7   \n",
       "4          Intuit - Data\\r\\r\\n4.5   \n",
       "\n",
       "                                         Competitors  Founded  \\\n",
       "0                                                 -1     1992   \n",
       "1                                                 -1     2016   \n",
       "2  MKS Instruments, Pfeiffer Vacuum, Agilent Tech...     2000   \n",
       "3                                                 -1     1984   \n",
       "4                          Square, PayPal, H&R Block     1983   \n",
       "\n",
       "             Headquarters                               Industry  \\\n",
       "0              Exeter, RI                            IT Services   \n",
       "1            New York, NY       Health Care Services & Hospitals   \n",
       "2  Bad Ragaz, Switzerland  Electrical & Electronic Manufacturing   \n",
       "3     Fort Lauderdale, FL                Advertising & Marketing   \n",
       "4       Mountain View, CA           Computer Hardware & Software   \n",
       "\n",
       "                                     Job Description  \\\n",
       "0  Blending customer advisory, customer support, ...   \n",
       "1  ***Please note: All hiring and recruitment at ...   \n",
       "2  JOB DESCRIPTION:\\r\\r\\n\\r\\r\\nDo you have a pass...   \n",
       "3  Reporting to the Director, Marketing Analytics...   \n",
       "4  Intuit is seeking a Staff Data Scientist to co...   \n",
       "\n",
       "                                        Job Title             Location  \\\n",
       "0  Associate Business Intelligence Data Scientist           Exeter, RI   \n",
       "1                                  Data Scientist         New York, NY   \n",
       "2                                  Data Scientist           Newton, MA   \n",
       "3                   Business Intelligence Analyst  Fort Lauderdale, FL   \n",
       "4                Staff Data Scientist - Analytics        San Diego, CA   \n",
       "\n",
       "   Rating                           Revenue  ...   job_state same_state age  \\\n",
       "0     3.1  $500 million to $1 billion (USD)  ...          RI          1  28   \n",
       "1     3.6          Unknown / Non-Applicable  ...          NY          1   4   \n",
       "2     3.5        $100 to $500 million (USD)  ...          MA          0  20   \n",
       "3     3.7          Unknown / Non-Applicable  ...          FL          1  36   \n",
       "4     4.5            $2 to $5 billion (USD)  ...          CA          0  37   \n",
       "\n",
       "  spark  aws  python_yn  phd_dg  master_dg bachelor_dg skills  \n",
       "0     0    0          1       0          2           1      2  \n",
       "1     0    0          1       3          0           1      3  \n",
       "2     0    1          1       0          2           1      2  \n",
       "3     0    0          0       0          2           1      2  \n",
       "4     0    0          0       0          0           0      0  \n",
       "\n",
       "[5 rows x 29 columns]"
      ]
     },
     "execution_count": 3,
     "metadata": {},
     "output_type": "execute_result"
    }
   ],
   "source": [
    "df.head()"
   ]
  },
  {
   "cell_type": "code",
   "execution_count": 4,
   "metadata": {
    "scrolled": true
   },
   "outputs": [
    {
     "data": {
      "text/plain": [
       "Index(['Company Name', 'Competitors', 'Founded', 'Headquarters', 'Industry',\n",
       "       'Job Description', 'Job Title', 'Location', 'Rating', 'Revenue',\n",
       "       'Salary Estimate', 'Sector', 'Size', 'Type of ownership', 'hourly',\n",
       "       'min_salary', 'max_salary', 'avg_salary', 'company_txt', 'job_state',\n",
       "       'same_state', 'age', 'spark', 'aws', 'python_yn', 'phd_dg', 'master_dg',\n",
       "       'bachelor_dg', 'skills'],\n",
       "      dtype='object')"
      ]
     },
     "execution_count": 4,
     "metadata": {},
     "output_type": "execute_result"
    }
   ],
   "source": [
    "df.columns"
   ]
  },
  {
   "cell_type": "markdown",
   "metadata": {},
   "source": [
    "## Making job categories"
   ]
  },
  {
   "cell_type": "markdown",
   "metadata": {},
   "source": [
    "### Simplifying & seniority parsing functions"
   ]
  },
  {
   "cell_type": "code",
   "execution_count": 5,
   "metadata": {},
   "outputs": [],
   "source": [
    "def title_simplifier(title):\n",
    "    if 'data scientist' in title.lower():\n",
    "        return 'data scientist'\n",
    "    elif 'analyst' in title.lower():\n",
    "        return 'analyst'\n",
    "    elif 'manager' in title.lower():\n",
    "        return 'manager'\n",
    "    elif 'director' in title.lower():\n",
    "        return 'director'\n",
    "    elif 'engineer' in title.lower():\n",
    "        return 'engineer'\n",
    "    elif 'developer' in title.lower():\n",
    "        return 'developer'\n",
    "    elif 'lead' in title.lower():\n",
    "        return 'lead'\n",
    "    elif 'consultant' in title.lower():\n",
    "        return 'consultant'\n",
    "    else:\n",
    "        return 'na'\n",
    "    \n",
    "def seniority(title):\n",
    "    if 'sr' in title.lower() or 'senior' in title.lower() or 'sr' in title.lower() or 'lead' in title.lower() or 'principal' in title.lower():\n",
    "            return 'senior'\n",
    "    elif 'jr' in title.lower() or 'jr.' in title.lower():\n",
    "        return 'jr'\n",
    "    else:\n",
    "        return 'na'"
   ]
  },
  {
   "cell_type": "code",
   "execution_count": 6,
   "metadata": {},
   "outputs": [],
   "source": [
    "df['job_simp'] = df['Job Title'].apply(title_simplifier)"
   ]
  },
  {
   "cell_type": "markdown",
   "metadata": {},
   "source": [
    "## Recurrence of a given job title"
   ]
  },
  {
   "cell_type": "code",
   "execution_count": 7,
   "metadata": {},
   "outputs": [
    {
     "data": {
      "text/plain": [
       "na                300\n",
       "engineer          191\n",
       "developer         178\n",
       "analyst           118\n",
       "manager            98\n",
       "lead               40\n",
       "data scientist     27\n",
       "consultant         27\n",
       "director           21\n",
       "Name: job_simp, dtype: int64"
      ]
     },
     "execution_count": 7,
     "metadata": {},
     "output_type": "execute_result"
    }
   ],
   "source": [
    "df.job_simp.value_counts()"
   ]
  },
  {
   "cell_type": "markdown",
   "metadata": {},
   "source": [
    "## Recurrence of seniority level researched"
   ]
  },
  {
   "cell_type": "code",
   "execution_count": 8,
   "metadata": {},
   "outputs": [
    {
     "data": {
      "text/plain": [
       "na        719\n",
       "senior    278\n",
       "jr          3\n",
       "Name: seniority, dtype: int64"
      ]
     },
     "execution_count": 8,
     "metadata": {},
     "output_type": "execute_result"
    }
   ],
   "source": [
    "## Job title and seniority \n",
    "df['seniority'] = df['Job Title'].apply(seniority)\n",
    "df.seniority.value_counts()"
   ]
  },
  {
   "cell_type": "markdown",
   "metadata": {},
   "source": [
    "## Fixing the state column\n",
    "As we can see below, some cells from de Location column are not formatted as the other ones. We need to fix : 'Utah', 'New Jersey', 'United State', 'Greenwood Village'."
   ]
  },
  {
   "cell_type": "code",
   "execution_count": 9,
   "metadata": {},
   "outputs": [
    {
     "data": {
      "text/plain": [
       "array([' RI', ' NY', ' MA', ' FL', ' CA', ' WA', ' MD', ' MN', ' TX',\n",
       "       ' CO', ' DC', ' IL', ' NJ', ' AZ', 'Utah', ' VA', 'New Jersey',\n",
       "       'United States', ' UT', ' NE', ' NC', ' MO', ' CT', ' KY', ' PA',\n",
       "       ' TN', ' SC', ' WI', ' MI', ' GA', ' OH', ' AL', ' LA',\n",
       "       'Greenwood Village', ' VT', ' OK', ' NM', ' IA', ' KS', ' OR'],\n",
       "      dtype=object)"
      ]
     },
     "execution_count": 9,
     "metadata": {},
     "output_type": "execute_result"
    }
   ],
   "source": [
    "##  Fix state\n",
    "df.job_state.unique()"
   ]
  },
  {
   "cell_type": "markdown",
   "metadata": {},
   "source": [
    "### State simplifier function"
   ]
  },
  {
   "cell_type": "code",
   "execution_count": 10,
   "metadata": {},
   "outputs": [],
   "source": [
    "#Making every names a state abreviation\n",
    "def state_simplifier(state):\n",
    "    if  'utah' in state.lower():\n",
    "        return 'UT'\n",
    "    elif 'new jersey' in state.lower():\n",
    "        return 'NJ'\n",
    "    elif 'greenwood village' in state.lower():\n",
    "        return 'CO'\n",
    "    elif 'united state' in state.lower():\n",
    "        return 'US'\n",
    "    else :\n",
    "        return state\n",
    "df['job_state'] = df.job_state.apply(state_simplifier)"
   ]
  },
  {
   "cell_type": "markdown",
   "metadata": {},
   "source": [
    "When I cleaned the data previously, I forgot to get rid of the useless space. I get rid of it with the lambda function as below."
   ]
  },
  {
   "cell_type": "code",
   "execution_count": 11,
   "metadata": {},
   "outputs": [],
   "source": [
    "#getting rid of the spaces\n",
    "df['job_state'] = df.job_state.apply(lambda x: x.replace(' ',''))"
   ]
  },
  {
   "cell_type": "code",
   "execution_count": 12,
   "metadata": {},
   "outputs": [
    {
     "data": {
      "text/plain": [
       "array(['RI', 'NY', 'MA', 'FL', 'CA', 'WA', 'MD', 'MN', 'TX', 'CO', 'DC',\n",
       "       'IL', 'NJ', 'AZ', 'UT', 'VA', 'US', 'NE', 'NC', 'MO', 'CT', 'KY',\n",
       "       'PA', 'TN', 'SC', 'WI', 'MI', 'GA', 'OH', 'AL', 'LA', 'VT', 'OK',\n",
       "       'NM', 'IA', 'KS', 'OR'], dtype=object)"
      ]
     },
     "execution_count": 12,
     "metadata": {},
     "output_type": "execute_result"
    }
   ],
   "source": [
    "df.job_state.unique()"
   ]
  },
  {
   "cell_type": "markdown",
   "metadata": {},
   "source": [
    "## Recurrence of a given State"
   ]
  },
  {
   "cell_type": "code",
   "execution_count": 13,
   "metadata": {},
   "outputs": [
    {
     "data": {
      "text/plain": [
       "TX    137\n",
       "CA    124\n",
       "NY    121\n",
       "VA     66\n",
       "NC     61\n",
       "AZ     59\n",
       "DC     44\n",
       "CO     35\n",
       "FL     28\n",
       "PA     23\n",
       "WI     22\n",
       "RI     22\n",
       "NE     21\n",
       "IL     21\n",
       "KY     21\n",
       "MD     20\n",
       "KS     18\n",
       "VT     18\n",
       "SC     17\n",
       "MO     17\n",
       "MI     15\n",
       "MA     15\n",
       "NJ     14\n",
       "GA     11\n",
       "MN      8\n",
       "UT      5\n",
       "US      5\n",
       "OK      5\n",
       "IA      4\n",
       "OH      4\n",
       "AL      4\n",
       "TN      3\n",
       "WA      3\n",
       "CT      3\n",
       "NM      2\n",
       "LA      2\n",
       "OR      2\n",
       "Name: job_state, dtype: int64"
      ]
     },
     "execution_count": 13,
     "metadata": {},
     "output_type": "execute_result"
    }
   ],
   "source": [
    "df.job_state.value_counts()"
   ]
  },
  {
   "cell_type": "markdown",
   "metadata": {},
   "source": [
    "## Making a column holding the lenght of the description"
   ]
  },
  {
   "cell_type": "code",
   "execution_count": 14,
   "metadata": {
    "scrolled": true
   },
   "outputs": [
    {
     "data": {
      "text/plain": [
       "0      5434\n",
       "1      5259\n",
       "2      3413\n",
       "3      2978\n",
       "4       456\n",
       "5      5207\n",
       "6      5360\n",
       "7      2760\n",
       "8      2149\n",
       "9      4909\n",
       "10     5470\n",
       "11     3585\n",
       "12     3346\n",
       "13      399\n",
       "14     3409\n",
       "15     3657\n",
       "16     2866\n",
       "17     4517\n",
       "18     3957\n",
       "19     4255\n",
       "20     2692\n",
       "21     3664\n",
       "22     2558\n",
       "23     7021\n",
       "24     3316\n",
       "25     2797\n",
       "26     4074\n",
       "27     3958\n",
       "28     3175\n",
       "29     2712\n",
       "       ... \n",
       "970    2645\n",
       "971    3980\n",
       "972    2334\n",
       "973    2338\n",
       "974    4731\n",
       "975    3827\n",
       "976    1409\n",
       "977    4775\n",
       "978    3732\n",
       "979    2856\n",
       "980    1002\n",
       "981    3158\n",
       "982    3076\n",
       "983    3263\n",
       "984    4574\n",
       "985    7016\n",
       "986    4338\n",
       "987    3477\n",
       "988    5091\n",
       "989    4912\n",
       "990    2120\n",
       "991    1203\n",
       "992    5181\n",
       "993    1325\n",
       "994    6104\n",
       "995     824\n",
       "996    2473\n",
       "997    3509\n",
       "998    2211\n",
       "999    1187\n",
       "Name: desc_len, Length: 1000, dtype: int64"
      ]
     },
     "execution_count": 14,
     "metadata": {},
     "output_type": "execute_result"
    }
   ],
   "source": [
    "##  Job description length \n",
    "df['desc_len'] = df['Job Description'].apply(lambda x: len(x))\n",
    "df['desc_len']"
   ]
  },
  {
   "cell_type": "markdown",
   "metadata": {},
   "source": [
    "## Making a column holding the number of competitor to a given company\n",
    "Checking if the function went as planned."
   ]
  },
  {
   "cell_type": "code",
   "execution_count": 15,
   "metadata": {
    "scrolled": true
   },
   "outputs": [
    {
     "data": {
      "text/html": [
       "<div>\n",
       "<style scoped>\n",
       "    .dataframe tbody tr th:only-of-type {\n",
       "        vertical-align: middle;\n",
       "    }\n",
       "\n",
       "    .dataframe tbody tr th {\n",
       "        vertical-align: top;\n",
       "    }\n",
       "\n",
       "    .dataframe thead th {\n",
       "        text-align: right;\n",
       "    }\n",
       "</style>\n",
       "<table border=\"1\" class=\"dataframe\">\n",
       "  <thead>\n",
       "    <tr style=\"text-align: right;\">\n",
       "      <th></th>\n",
       "      <th>Competitors</th>\n",
       "      <th>num_comp</th>\n",
       "    </tr>\n",
       "  </thead>\n",
       "  <tbody>\n",
       "    <tr>\n",
       "      <th>0</th>\n",
       "      <td>-1</td>\n",
       "      <td>0</td>\n",
       "    </tr>\n",
       "    <tr>\n",
       "      <th>1</th>\n",
       "      <td>-1</td>\n",
       "      <td>0</td>\n",
       "    </tr>\n",
       "    <tr>\n",
       "      <th>2</th>\n",
       "      <td>MKS Instruments, Pfeiffer Vacuum, Agilent Tech...</td>\n",
       "      <td>3</td>\n",
       "    </tr>\n",
       "    <tr>\n",
       "      <th>3</th>\n",
       "      <td>-1</td>\n",
       "      <td>0</td>\n",
       "    </tr>\n",
       "    <tr>\n",
       "      <th>4</th>\n",
       "      <td>Square, PayPal, H&amp;R Block</td>\n",
       "      <td>3</td>\n",
       "    </tr>\n",
       "    <tr>\n",
       "      <th>5</th>\n",
       "      <td>-1</td>\n",
       "      <td>0</td>\n",
       "    </tr>\n",
       "    <tr>\n",
       "      <th>6</th>\n",
       "      <td>Oak Ridge National Laboratory, National Renewa...</td>\n",
       "      <td>3</td>\n",
       "    </tr>\n",
       "    <tr>\n",
       "      <th>7</th>\n",
       "      <td>Colony Specialty, Markel, RLI</td>\n",
       "      <td>3</td>\n",
       "    </tr>\n",
       "    <tr>\n",
       "      <th>8</th>\n",
       "      <td>-1</td>\n",
       "      <td>0</td>\n",
       "    </tr>\n",
       "    <tr>\n",
       "      <th>9</th>\n",
       "      <td>-1</td>\n",
       "      <td>0</td>\n",
       "    </tr>\n",
       "    <tr>\n",
       "      <th>10</th>\n",
       "      <td>-1</td>\n",
       "      <td>0</td>\n",
       "    </tr>\n",
       "    <tr>\n",
       "      <th>11</th>\n",
       "      <td>Experian, Equifax</td>\n",
       "      <td>2</td>\n",
       "    </tr>\n",
       "    <tr>\n",
       "      <th>12</th>\n",
       "      <td>Nielsen, Zappi, SurveyMonkey</td>\n",
       "      <td>3</td>\n",
       "    </tr>\n",
       "    <tr>\n",
       "      <th>13</th>\n",
       "      <td>-1</td>\n",
       "      <td>0</td>\n",
       "    </tr>\n",
       "    <tr>\n",
       "      <th>14</th>\n",
       "      <td>-1</td>\n",
       "      <td>0</td>\n",
       "    </tr>\n",
       "    <tr>\n",
       "      <th>15</th>\n",
       "      <td>-1</td>\n",
       "      <td>0</td>\n",
       "    </tr>\n",
       "    <tr>\n",
       "      <th>16</th>\n",
       "      <td>Arbella Insurance, Safety Insurance</td>\n",
       "      <td>2</td>\n",
       "    </tr>\n",
       "    <tr>\n",
       "      <th>17</th>\n",
       "      <td>Fluidigm</td>\n",
       "      <td>1</td>\n",
       "    </tr>\n",
       "    <tr>\n",
       "      <th>18</th>\n",
       "      <td>-1</td>\n",
       "      <td>0</td>\n",
       "    </tr>\n",
       "    <tr>\n",
       "      <th>19</th>\n",
       "      <td>-1</td>\n",
       "      <td>0</td>\n",
       "    </tr>\n",
       "    <tr>\n",
       "      <th>20</th>\n",
       "      <td>-1</td>\n",
       "      <td>0</td>\n",
       "    </tr>\n",
       "    <tr>\n",
       "      <th>21</th>\n",
       "      <td>-1</td>\n",
       "      <td>0</td>\n",
       "    </tr>\n",
       "    <tr>\n",
       "      <th>22</th>\n",
       "      <td>-1</td>\n",
       "      <td>0</td>\n",
       "    </tr>\n",
       "    <tr>\n",
       "      <th>23</th>\n",
       "      <td>Lids, Amazon, Under Armour</td>\n",
       "      <td>3</td>\n",
       "    </tr>\n",
       "    <tr>\n",
       "      <th>24</th>\n",
       "      <td>Booz Allen Hamilton, CACI International</td>\n",
       "      <td>2</td>\n",
       "    </tr>\n",
       "    <tr>\n",
       "      <th>25</th>\n",
       "      <td>-1</td>\n",
       "      <td>0</td>\n",
       "    </tr>\n",
       "    <tr>\n",
       "      <th>26</th>\n",
       "      <td>-1</td>\n",
       "      <td>0</td>\n",
       "    </tr>\n",
       "    <tr>\n",
       "      <th>27</th>\n",
       "      <td>-1</td>\n",
       "      <td>0</td>\n",
       "    </tr>\n",
       "    <tr>\n",
       "      <th>28</th>\n",
       "      <td>Birchbox</td>\n",
       "      <td>1</td>\n",
       "    </tr>\n",
       "    <tr>\n",
       "      <th>29</th>\n",
       "      <td>-1</td>\n",
       "      <td>0</td>\n",
       "    </tr>\n",
       "    <tr>\n",
       "      <th>...</th>\n",
       "      <td>...</td>\n",
       "      <td>...</td>\n",
       "    </tr>\n",
       "    <tr>\n",
       "      <th>970</th>\n",
       "      <td>Capgemini, Accenture, Deloitte</td>\n",
       "      <td>3</td>\n",
       "    </tr>\n",
       "    <tr>\n",
       "      <th>971</th>\n",
       "      <td>-1</td>\n",
       "      <td>0</td>\n",
       "    </tr>\n",
       "    <tr>\n",
       "      <th>972</th>\n",
       "      <td>-1</td>\n",
       "      <td>0</td>\n",
       "    </tr>\n",
       "    <tr>\n",
       "      <th>973</th>\n",
       "      <td>-1</td>\n",
       "      <td>0</td>\n",
       "    </tr>\n",
       "    <tr>\n",
       "      <th>974</th>\n",
       "      <td>Capgemini, Accenture, Deloitte</td>\n",
       "      <td>3</td>\n",
       "    </tr>\n",
       "    <tr>\n",
       "      <th>975</th>\n",
       "      <td>-1</td>\n",
       "      <td>0</td>\n",
       "    </tr>\n",
       "    <tr>\n",
       "      <th>976</th>\n",
       "      <td>Capgemini, Accenture, Deloitte</td>\n",
       "      <td>3</td>\n",
       "    </tr>\n",
       "    <tr>\n",
       "      <th>977</th>\n",
       "      <td>Capgemini, Accenture, Deloitte</td>\n",
       "      <td>3</td>\n",
       "    </tr>\n",
       "    <tr>\n",
       "      <th>978</th>\n",
       "      <td>Capgemini, Accenture, Deloitte</td>\n",
       "      <td>3</td>\n",
       "    </tr>\n",
       "    <tr>\n",
       "      <th>979</th>\n",
       "      <td>Capgemini, Accenture, Deloitte</td>\n",
       "      <td>3</td>\n",
       "    </tr>\n",
       "    <tr>\n",
       "      <th>980</th>\n",
       "      <td>-1</td>\n",
       "      <td>0</td>\n",
       "    </tr>\n",
       "    <tr>\n",
       "      <th>981</th>\n",
       "      <td>-1</td>\n",
       "      <td>0</td>\n",
       "    </tr>\n",
       "    <tr>\n",
       "      <th>982</th>\n",
       "      <td>Capgemini, Accenture, Deloitte</td>\n",
       "      <td>3</td>\n",
       "    </tr>\n",
       "    <tr>\n",
       "      <th>983</th>\n",
       "      <td>Capgemini, Accenture, Deloitte</td>\n",
       "      <td>3</td>\n",
       "    </tr>\n",
       "    <tr>\n",
       "      <th>984</th>\n",
       "      <td>QTS, CyrusOne, Equinix</td>\n",
       "      <td>3</td>\n",
       "    </tr>\n",
       "    <tr>\n",
       "      <th>985</th>\n",
       "      <td>-1</td>\n",
       "      <td>0</td>\n",
       "    </tr>\n",
       "    <tr>\n",
       "      <th>986</th>\n",
       "      <td>Capgemini, Accenture, Deloitte</td>\n",
       "      <td>3</td>\n",
       "    </tr>\n",
       "    <tr>\n",
       "      <th>987</th>\n",
       "      <td>-1</td>\n",
       "      <td>0</td>\n",
       "    </tr>\n",
       "    <tr>\n",
       "      <th>988</th>\n",
       "      <td>-1</td>\n",
       "      <td>0</td>\n",
       "    </tr>\n",
       "    <tr>\n",
       "      <th>989</th>\n",
       "      <td>-1</td>\n",
       "      <td>0</td>\n",
       "    </tr>\n",
       "    <tr>\n",
       "      <th>990</th>\n",
       "      <td>Capgemini, Accenture, Deloitte</td>\n",
       "      <td>3</td>\n",
       "    </tr>\n",
       "    <tr>\n",
       "      <th>991</th>\n",
       "      <td>Capgemini, Accenture, Deloitte</td>\n",
       "      <td>3</td>\n",
       "    </tr>\n",
       "    <tr>\n",
       "      <th>992</th>\n",
       "      <td>Capgemini, Accenture, Deloitte</td>\n",
       "      <td>3</td>\n",
       "    </tr>\n",
       "    <tr>\n",
       "      <th>993</th>\n",
       "      <td>Metis, General Assembly</td>\n",
       "      <td>2</td>\n",
       "    </tr>\n",
       "    <tr>\n",
       "      <th>994</th>\n",
       "      <td>QTS, CyrusOne, Equinix</td>\n",
       "      <td>3</td>\n",
       "    </tr>\n",
       "    <tr>\n",
       "      <th>995</th>\n",
       "      <td>TEKMARK Global Solutions, Marlabs, IBM</td>\n",
       "      <td>3</td>\n",
       "    </tr>\n",
       "    <tr>\n",
       "      <th>996</th>\n",
       "      <td>-1</td>\n",
       "      <td>0</td>\n",
       "    </tr>\n",
       "    <tr>\n",
       "      <th>997</th>\n",
       "      <td>-1</td>\n",
       "      <td>0</td>\n",
       "    </tr>\n",
       "    <tr>\n",
       "      <th>998</th>\n",
       "      <td>-1</td>\n",
       "      <td>0</td>\n",
       "    </tr>\n",
       "    <tr>\n",
       "      <th>999</th>\n",
       "      <td>-1</td>\n",
       "      <td>0</td>\n",
       "    </tr>\n",
       "  </tbody>\n",
       "</table>\n",
       "<p>1000 rows × 2 columns</p>\n",
       "</div>"
      ],
      "text/plain": [
       "                                           Competitors  num_comp\n",
       "0                                                   -1         0\n",
       "1                                                   -1         0\n",
       "2    MKS Instruments, Pfeiffer Vacuum, Agilent Tech...         3\n",
       "3                                                   -1         0\n",
       "4                            Square, PayPal, H&R Block         3\n",
       "5                                                   -1         0\n",
       "6    Oak Ridge National Laboratory, National Renewa...         3\n",
       "7                        Colony Specialty, Markel, RLI         3\n",
       "8                                                   -1         0\n",
       "9                                                   -1         0\n",
       "10                                                  -1         0\n",
       "11                                   Experian, Equifax         2\n",
       "12                        Nielsen, Zappi, SurveyMonkey         3\n",
       "13                                                  -1         0\n",
       "14                                                  -1         0\n",
       "15                                                  -1         0\n",
       "16                 Arbella Insurance, Safety Insurance         2\n",
       "17                                            Fluidigm         1\n",
       "18                                                  -1         0\n",
       "19                                                  -1         0\n",
       "20                                                  -1         0\n",
       "21                                                  -1         0\n",
       "22                                                  -1         0\n",
       "23                          Lids, Amazon, Under Armour         3\n",
       "24             Booz Allen Hamilton, CACI International         2\n",
       "25                                                  -1         0\n",
       "26                                                  -1         0\n",
       "27                                                  -1         0\n",
       "28                                            Birchbox         1\n",
       "29                                                  -1         0\n",
       "..                                                 ...       ...\n",
       "970                     Capgemini, Accenture, Deloitte         3\n",
       "971                                                 -1         0\n",
       "972                                                 -1         0\n",
       "973                                                 -1         0\n",
       "974                     Capgemini, Accenture, Deloitte         3\n",
       "975                                                 -1         0\n",
       "976                     Capgemini, Accenture, Deloitte         3\n",
       "977                     Capgemini, Accenture, Deloitte         3\n",
       "978                     Capgemini, Accenture, Deloitte         3\n",
       "979                     Capgemini, Accenture, Deloitte         3\n",
       "980                                                 -1         0\n",
       "981                                                 -1         0\n",
       "982                     Capgemini, Accenture, Deloitte         3\n",
       "983                     Capgemini, Accenture, Deloitte         3\n",
       "984                             QTS, CyrusOne, Equinix         3\n",
       "985                                                 -1         0\n",
       "986                     Capgemini, Accenture, Deloitte         3\n",
       "987                                                 -1         0\n",
       "988                                                 -1         0\n",
       "989                                                 -1         0\n",
       "990                     Capgemini, Accenture, Deloitte         3\n",
       "991                     Capgemini, Accenture, Deloitte         3\n",
       "992                     Capgemini, Accenture, Deloitte         3\n",
       "993                            Metis, General Assembly         2\n",
       "994                             QTS, CyrusOne, Equinix         3\n",
       "995             TEKMARK Global Solutions, Marlabs, IBM         3\n",
       "996                                                 -1         0\n",
       "997                                                 -1         0\n",
       "998                                                 -1         0\n",
       "999                                                 -1         0\n",
       "\n",
       "[1000 rows x 2 columns]"
      ]
     },
     "execution_count": 15,
     "metadata": {},
     "output_type": "execute_result"
    }
   ],
   "source": [
    "##  Competitor count\n",
    "df['num_comp'] = df['Competitors'].apply(lambda x: len(x.split(',')) if x != '-1' else 0)\n",
    "df[['Competitors','num_comp']]"
   ]
  },
  {
   "cell_type": "markdown",
   "metadata": {},
   "source": [
    "## Making the hourly cells as a annual salary"
   ]
  },
  {
   "cell_type": "code",
   "execution_count": 16,
   "metadata": {},
   "outputs": [],
   "source": [
    "## hourly wage to annual \n",
    "df['min_salary'] = df.apply(lambda x: x.min_salary*2 if x.hourly == 1 else x.min_salary, axis = 1)\n",
    "df['max_salary'] = df.apply(lambda x: x.max_salary*2 if x.hourly == 1 else x.max_salary, axis = 1)"
   ]
  },
  {
   "cell_type": "markdown",
   "metadata": {},
   "source": [
    "taking the hourly salary and multiplying it by 2 almost give the anual salary when taking the 'k' off."
   ]
  },
  {
   "cell_type": "code",
   "execution_count": 17,
   "metadata": {
    "scrolled": true
   },
   "outputs": [
    {
     "data": {
      "text/html": [
       "<div>\n",
       "<style scoped>\n",
       "    .dataframe tbody tr th:only-of-type {\n",
       "        vertical-align: middle;\n",
       "    }\n",
       "\n",
       "    .dataframe tbody tr th {\n",
       "        vertical-align: top;\n",
       "    }\n",
       "\n",
       "    .dataframe thead th {\n",
       "        text-align: right;\n",
       "    }\n",
       "</style>\n",
       "<table border=\"1\" class=\"dataframe\">\n",
       "  <thead>\n",
       "    <tr style=\"text-align: right;\">\n",
       "      <th></th>\n",
       "      <th>hourly</th>\n",
       "      <th>min_salary</th>\n",
       "      <th>max_salary</th>\n",
       "    </tr>\n",
       "  </thead>\n",
       "  <tbody>\n",
       "    <tr>\n",
       "      <th>0</th>\n",
       "      <td>0</td>\n",
       "      <td>53</td>\n",
       "      <td>89</td>\n",
       "    </tr>\n",
       "    <tr>\n",
       "      <th>1</th>\n",
       "      <td>0</td>\n",
       "      <td>53</td>\n",
       "      <td>89</td>\n",
       "    </tr>\n",
       "    <tr>\n",
       "      <th>2</th>\n",
       "      <td>0</td>\n",
       "      <td>53</td>\n",
       "      <td>89</td>\n",
       "    </tr>\n",
       "    <tr>\n",
       "      <th>3</th>\n",
       "      <td>0</td>\n",
       "      <td>53</td>\n",
       "      <td>89</td>\n",
       "    </tr>\n",
       "    <tr>\n",
       "      <th>4</th>\n",
       "      <td>0</td>\n",
       "      <td>53</td>\n",
       "      <td>89</td>\n",
       "    </tr>\n",
       "    <tr>\n",
       "      <th>5</th>\n",
       "      <td>0</td>\n",
       "      <td>53</td>\n",
       "      <td>89</td>\n",
       "    </tr>\n",
       "    <tr>\n",
       "      <th>6</th>\n",
       "      <td>0</td>\n",
       "      <td>53</td>\n",
       "      <td>89</td>\n",
       "    </tr>\n",
       "    <tr>\n",
       "      <th>7</th>\n",
       "      <td>0</td>\n",
       "      <td>53</td>\n",
       "      <td>89</td>\n",
       "    </tr>\n",
       "    <tr>\n",
       "      <th>8</th>\n",
       "      <td>0</td>\n",
       "      <td>53</td>\n",
       "      <td>89</td>\n",
       "    </tr>\n",
       "    <tr>\n",
       "      <th>9</th>\n",
       "      <td>0</td>\n",
       "      <td>53</td>\n",
       "      <td>89</td>\n",
       "    </tr>\n",
       "    <tr>\n",
       "      <th>10</th>\n",
       "      <td>0</td>\n",
       "      <td>53</td>\n",
       "      <td>89</td>\n",
       "    </tr>\n",
       "    <tr>\n",
       "      <th>11</th>\n",
       "      <td>0</td>\n",
       "      <td>53</td>\n",
       "      <td>89</td>\n",
       "    </tr>\n",
       "    <tr>\n",
       "      <th>12</th>\n",
       "      <td>0</td>\n",
       "      <td>53</td>\n",
       "      <td>89</td>\n",
       "    </tr>\n",
       "    <tr>\n",
       "      <th>13</th>\n",
       "      <td>0</td>\n",
       "      <td>53</td>\n",
       "      <td>89</td>\n",
       "    </tr>\n",
       "    <tr>\n",
       "      <th>14</th>\n",
       "      <td>0</td>\n",
       "      <td>53</td>\n",
       "      <td>89</td>\n",
       "    </tr>\n",
       "    <tr>\n",
       "      <th>15</th>\n",
       "      <td>0</td>\n",
       "      <td>53</td>\n",
       "      <td>89</td>\n",
       "    </tr>\n",
       "    <tr>\n",
       "      <th>16</th>\n",
       "      <td>0</td>\n",
       "      <td>53</td>\n",
       "      <td>89</td>\n",
       "    </tr>\n",
       "    <tr>\n",
       "      <th>17</th>\n",
       "      <td>0</td>\n",
       "      <td>53</td>\n",
       "      <td>89</td>\n",
       "    </tr>\n",
       "    <tr>\n",
       "      <th>18</th>\n",
       "      <td>0</td>\n",
       "      <td>53</td>\n",
       "      <td>89</td>\n",
       "    </tr>\n",
       "    <tr>\n",
       "      <th>19</th>\n",
       "      <td>0</td>\n",
       "      <td>53</td>\n",
       "      <td>89</td>\n",
       "    </tr>\n",
       "    <tr>\n",
       "      <th>20</th>\n",
       "      <td>0</td>\n",
       "      <td>53</td>\n",
       "      <td>89</td>\n",
       "    </tr>\n",
       "    <tr>\n",
       "      <th>21</th>\n",
       "      <td>0</td>\n",
       "      <td>53</td>\n",
       "      <td>89</td>\n",
       "    </tr>\n",
       "    <tr>\n",
       "      <th>22</th>\n",
       "      <td>0</td>\n",
       "      <td>53</td>\n",
       "      <td>89</td>\n",
       "    </tr>\n",
       "    <tr>\n",
       "      <th>23</th>\n",
       "      <td>0</td>\n",
       "      <td>53</td>\n",
       "      <td>89</td>\n",
       "    </tr>\n",
       "    <tr>\n",
       "      <th>24</th>\n",
       "      <td>0</td>\n",
       "      <td>53</td>\n",
       "      <td>89</td>\n",
       "    </tr>\n",
       "    <tr>\n",
       "      <th>25</th>\n",
       "      <td>0</td>\n",
       "      <td>53</td>\n",
       "      <td>89</td>\n",
       "    </tr>\n",
       "    <tr>\n",
       "      <th>26</th>\n",
       "      <td>0</td>\n",
       "      <td>53</td>\n",
       "      <td>89</td>\n",
       "    </tr>\n",
       "    <tr>\n",
       "      <th>27</th>\n",
       "      <td>0</td>\n",
       "      <td>53</td>\n",
       "      <td>89</td>\n",
       "    </tr>\n",
       "    <tr>\n",
       "      <th>28</th>\n",
       "      <td>0</td>\n",
       "      <td>53</td>\n",
       "      <td>89</td>\n",
       "    </tr>\n",
       "    <tr>\n",
       "      <th>29</th>\n",
       "      <td>0</td>\n",
       "      <td>53</td>\n",
       "      <td>89</td>\n",
       "    </tr>\n",
       "    <tr>\n",
       "      <th>...</th>\n",
       "      <td>...</td>\n",
       "      <td>...</td>\n",
       "      <td>...</td>\n",
       "    </tr>\n",
       "    <tr>\n",
       "      <th>970</th>\n",
       "      <td>0</td>\n",
       "      <td>40</td>\n",
       "      <td>72</td>\n",
       "    </tr>\n",
       "    <tr>\n",
       "      <th>971</th>\n",
       "      <td>0</td>\n",
       "      <td>40</td>\n",
       "      <td>72</td>\n",
       "    </tr>\n",
       "    <tr>\n",
       "      <th>972</th>\n",
       "      <td>0</td>\n",
       "      <td>40</td>\n",
       "      <td>72</td>\n",
       "    </tr>\n",
       "    <tr>\n",
       "      <th>973</th>\n",
       "      <td>0</td>\n",
       "      <td>40</td>\n",
       "      <td>72</td>\n",
       "    </tr>\n",
       "    <tr>\n",
       "      <th>974</th>\n",
       "      <td>0</td>\n",
       "      <td>40</td>\n",
       "      <td>72</td>\n",
       "    </tr>\n",
       "    <tr>\n",
       "      <th>975</th>\n",
       "      <td>0</td>\n",
       "      <td>40</td>\n",
       "      <td>72</td>\n",
       "    </tr>\n",
       "    <tr>\n",
       "      <th>976</th>\n",
       "      <td>0</td>\n",
       "      <td>40</td>\n",
       "      <td>72</td>\n",
       "    </tr>\n",
       "    <tr>\n",
       "      <th>977</th>\n",
       "      <td>0</td>\n",
       "      <td>40</td>\n",
       "      <td>72</td>\n",
       "    </tr>\n",
       "    <tr>\n",
       "      <th>978</th>\n",
       "      <td>0</td>\n",
       "      <td>40</td>\n",
       "      <td>72</td>\n",
       "    </tr>\n",
       "    <tr>\n",
       "      <th>979</th>\n",
       "      <td>0</td>\n",
       "      <td>40</td>\n",
       "      <td>72</td>\n",
       "    </tr>\n",
       "    <tr>\n",
       "      <th>980</th>\n",
       "      <td>0</td>\n",
       "      <td>40</td>\n",
       "      <td>72</td>\n",
       "    </tr>\n",
       "    <tr>\n",
       "      <th>981</th>\n",
       "      <td>0</td>\n",
       "      <td>40</td>\n",
       "      <td>72</td>\n",
       "    </tr>\n",
       "    <tr>\n",
       "      <th>982</th>\n",
       "      <td>0</td>\n",
       "      <td>40</td>\n",
       "      <td>72</td>\n",
       "    </tr>\n",
       "    <tr>\n",
       "      <th>983</th>\n",
       "      <td>0</td>\n",
       "      <td>40</td>\n",
       "      <td>72</td>\n",
       "    </tr>\n",
       "    <tr>\n",
       "      <th>984</th>\n",
       "      <td>0</td>\n",
       "      <td>40</td>\n",
       "      <td>72</td>\n",
       "    </tr>\n",
       "    <tr>\n",
       "      <th>985</th>\n",
       "      <td>0</td>\n",
       "      <td>40</td>\n",
       "      <td>72</td>\n",
       "    </tr>\n",
       "    <tr>\n",
       "      <th>986</th>\n",
       "      <td>0</td>\n",
       "      <td>40</td>\n",
       "      <td>72</td>\n",
       "    </tr>\n",
       "    <tr>\n",
       "      <th>987</th>\n",
       "      <td>0</td>\n",
       "      <td>40</td>\n",
       "      <td>72</td>\n",
       "    </tr>\n",
       "    <tr>\n",
       "      <th>988</th>\n",
       "      <td>0</td>\n",
       "      <td>40</td>\n",
       "      <td>72</td>\n",
       "    </tr>\n",
       "    <tr>\n",
       "      <th>989</th>\n",
       "      <td>0</td>\n",
       "      <td>40</td>\n",
       "      <td>72</td>\n",
       "    </tr>\n",
       "    <tr>\n",
       "      <th>990</th>\n",
       "      <td>0</td>\n",
       "      <td>40</td>\n",
       "      <td>72</td>\n",
       "    </tr>\n",
       "    <tr>\n",
       "      <th>991</th>\n",
       "      <td>0</td>\n",
       "      <td>40</td>\n",
       "      <td>72</td>\n",
       "    </tr>\n",
       "    <tr>\n",
       "      <th>992</th>\n",
       "      <td>0</td>\n",
       "      <td>40</td>\n",
       "      <td>72</td>\n",
       "    </tr>\n",
       "    <tr>\n",
       "      <th>993</th>\n",
       "      <td>0</td>\n",
       "      <td>40</td>\n",
       "      <td>72</td>\n",
       "    </tr>\n",
       "    <tr>\n",
       "      <th>994</th>\n",
       "      <td>0</td>\n",
       "      <td>40</td>\n",
       "      <td>72</td>\n",
       "    </tr>\n",
       "    <tr>\n",
       "      <th>995</th>\n",
       "      <td>0</td>\n",
       "      <td>40</td>\n",
       "      <td>72</td>\n",
       "    </tr>\n",
       "    <tr>\n",
       "      <th>996</th>\n",
       "      <td>0</td>\n",
       "      <td>40</td>\n",
       "      <td>72</td>\n",
       "    </tr>\n",
       "    <tr>\n",
       "      <th>997</th>\n",
       "      <td>0</td>\n",
       "      <td>40</td>\n",
       "      <td>72</td>\n",
       "    </tr>\n",
       "    <tr>\n",
       "      <th>998</th>\n",
       "      <td>0</td>\n",
       "      <td>40</td>\n",
       "      <td>72</td>\n",
       "    </tr>\n",
       "    <tr>\n",
       "      <th>999</th>\n",
       "      <td>0</td>\n",
       "      <td>40</td>\n",
       "      <td>72</td>\n",
       "    </tr>\n",
       "  </tbody>\n",
       "</table>\n",
       "<p>1000 rows × 3 columns</p>\n",
       "</div>"
      ],
      "text/plain": [
       "     hourly  min_salary  max_salary\n",
       "0         0          53          89\n",
       "1         0          53          89\n",
       "2         0          53          89\n",
       "3         0          53          89\n",
       "4         0          53          89\n",
       "5         0          53          89\n",
       "6         0          53          89\n",
       "7         0          53          89\n",
       "8         0          53          89\n",
       "9         0          53          89\n",
       "10        0          53          89\n",
       "11        0          53          89\n",
       "12        0          53          89\n",
       "13        0          53          89\n",
       "14        0          53          89\n",
       "15        0          53          89\n",
       "16        0          53          89\n",
       "17        0          53          89\n",
       "18        0          53          89\n",
       "19        0          53          89\n",
       "20        0          53          89\n",
       "21        0          53          89\n",
       "22        0          53          89\n",
       "23        0          53          89\n",
       "24        0          53          89\n",
       "25        0          53          89\n",
       "26        0          53          89\n",
       "27        0          53          89\n",
       "28        0          53          89\n",
       "29        0          53          89\n",
       "..      ...         ...         ...\n",
       "970       0          40          72\n",
       "971       0          40          72\n",
       "972       0          40          72\n",
       "973       0          40          72\n",
       "974       0          40          72\n",
       "975       0          40          72\n",
       "976       0          40          72\n",
       "977       0          40          72\n",
       "978       0          40          72\n",
       "979       0          40          72\n",
       "980       0          40          72\n",
       "981       0          40          72\n",
       "982       0          40          72\n",
       "983       0          40          72\n",
       "984       0          40          72\n",
       "985       0          40          72\n",
       "986       0          40          72\n",
       "987       0          40          72\n",
       "988       0          40          72\n",
       "989       0          40          72\n",
       "990       0          40          72\n",
       "991       0          40          72\n",
       "992       0          40          72\n",
       "993       0          40          72\n",
       "994       0          40          72\n",
       "995       0          40          72\n",
       "996       0          40          72\n",
       "997       0          40          72\n",
       "998       0          40          72\n",
       "999       0          40          72\n",
       "\n",
       "[1000 rows x 3 columns]"
      ]
     },
     "execution_count": 17,
     "metadata": {},
     "output_type": "execute_result"
    }
   ],
   "source": [
    "df[['hourly','min_salary','max_salary']]"
   ]
  },
  {
   "cell_type": "markdown",
   "metadata": {},
   "source": [
    "## Simplifying the job title"
   ]
  },
  {
   "cell_type": "code",
   "execution_count": 18,
   "metadata": {
    "scrolled": true
   },
   "outputs": [
    {
     "data": {
      "text/plain": [
       "0                        Carousel Industries\n",
       "1                              Spring Health\n",
       "2                                    INFICON\n",
       "3                      Zimmerman Advertising\n",
       "4                              Intuit - Data\n",
       "5                                   Novartis\n",
       "6      Pacific Northwest National Laboratory\n",
       "7                              IFG Companies\n",
       "8                          Remedi SeniorCare\n",
       "9                                     Ecolab\n",
       "10                             Spring Health\n",
       "11                          Dun & Bradstreet\n",
       "12                                  GutCheck\n",
       "13                                  Powertek\n",
       "14                    MIT Lincoln Laboratory\n",
       "15                                    Ecolab\n",
       "16                   Plymouth Rock Assurance\n",
       "17                           Berkeley Lights\n",
       "18                             Tivity Health\n",
       "19                                     Zynga\n",
       "20                        Via Transportation\n",
       "21                              Merrick Bank\n",
       "22                        Via Transportation\n",
       "23                                  Fanatics\n",
       "24                                      SAIC\n",
       "25                                    Avlino\n",
       "26                 Great-Circle Technologies\n",
       "27                                 Evidation\n",
       "28                                Boxy Charm\n",
       "29                         Tecolote Research\n",
       "                       ...                  \n",
       "970                        NTT DATA Services\n",
       "971                     Pioneer Data Systems\n",
       "972                     Connexions Data Inc.\n",
       "973                         Data Innovations\n",
       "974                        NTT DATA Services\n",
       "975                               Simon Data\n",
       "976                     NTT DATA Corporation\n",
       "977                     NTT DATA Corporation\n",
       "978                        NTT DATA Services\n",
       "979                        NTT DATA Services\n",
       "980                      Ana Data Consulting\n",
       "981                    Advanced Digital Data\n",
       "982                     NTT DATA Corporation\n",
       "983                     NTT DATA Corporation\n",
       "984    NTT Global Data Centers Americas, Inc\n",
       "985              Data Systems Analysts, Inc.\n",
       "986                     NTT DATA Corporation\n",
       "987                          Comtech EF Data\n",
       "988                     Federal Data Systems\n",
       "989            Integrated Data Services Inc.\n",
       "990                     NTT DATA Corporation\n",
       "991                     NTT DATA Corporation\n",
       "992                     NTT DATA Corporation\n",
       "993                 NYC Data Science Academy\n",
       "994    NTT Global Data Centers Americas, Inc\n",
       "995                                 Data Inc\n",
       "996                    Pavilion Data Systems\n",
       "997                               7Park Data\n",
       "998                         QTS Data Centers\n",
       "999                   Strategic Data Systems\n",
       "Name: company_txt, Length: 1000, dtype: object"
      ]
     },
     "execution_count": 18,
     "metadata": {},
     "output_type": "execute_result"
    }
   ],
   "source": [
    "df['company_txt'] = df.company_txt.apply(lambda x: x.replace('\\r\\r\\n',''))\n",
    "df['company_txt']"
   ]
  },
  {
   "cell_type": "code",
   "execution_count": 19,
   "metadata": {
    "scrolled": true
   },
   "outputs": [
    {
     "data": {
      "text/html": [
       "<div>\n",
       "<style scoped>\n",
       "    .dataframe tbody tr th:only-of-type {\n",
       "        vertical-align: middle;\n",
       "    }\n",
       "\n",
       "    .dataframe tbody tr th {\n",
       "        vertical-align: top;\n",
       "    }\n",
       "\n",
       "    .dataframe thead th {\n",
       "        text-align: right;\n",
       "    }\n",
       "</style>\n",
       "<table border=\"1\" class=\"dataframe\">\n",
       "  <thead>\n",
       "    <tr style=\"text-align: right;\">\n",
       "      <th></th>\n",
       "      <th>Founded</th>\n",
       "      <th>Rating</th>\n",
       "      <th>hourly</th>\n",
       "      <th>min_salary</th>\n",
       "      <th>max_salary</th>\n",
       "      <th>avg_salary</th>\n",
       "      <th>same_state</th>\n",
       "      <th>age</th>\n",
       "      <th>spark</th>\n",
       "      <th>aws</th>\n",
       "      <th>python_yn</th>\n",
       "      <th>phd_dg</th>\n",
       "      <th>master_dg</th>\n",
       "      <th>bachelor_dg</th>\n",
       "      <th>skills</th>\n",
       "      <th>desc_len</th>\n",
       "      <th>num_comp</th>\n",
       "    </tr>\n",
       "  </thead>\n",
       "  <tbody>\n",
       "    <tr>\n",
       "      <th>count</th>\n",
       "      <td>1000.000000</td>\n",
       "      <td>1000.000000</td>\n",
       "      <td>1000.000000</td>\n",
       "      <td>1000.000000</td>\n",
       "      <td>1000.000000</td>\n",
       "      <td>1000.000000</td>\n",
       "      <td>1000.000000</td>\n",
       "      <td>1000.000000</td>\n",
       "      <td>1000.000000</td>\n",
       "      <td>1000.000000</td>\n",
       "      <td>1000.0000</td>\n",
       "      <td>1000.000000</td>\n",
       "      <td>1000.000000</td>\n",
       "      <td>1000.000000</td>\n",
       "      <td>1000.000000</td>\n",
       "      <td>1000.000000</td>\n",
       "      <td>1000.000000</td>\n",
       "    </tr>\n",
       "    <tr>\n",
       "      <th>mean</th>\n",
       "      <td>1764.986000</td>\n",
       "      <td>3.689300</td>\n",
       "      <td>0.064000</td>\n",
       "      <td>47.238000</td>\n",
       "      <td>92.094000</td>\n",
       "      <td>67.874000</td>\n",
       "      <td>0.178000</td>\n",
       "      <td>36.638000</td>\n",
       "      <td>0.032000</td>\n",
       "      <td>0.260000</td>\n",
       "      <td>0.1020</td>\n",
       "      <td>0.030000</td>\n",
       "      <td>0.608000</td>\n",
       "      <td>0.521000</td>\n",
       "      <td>0.969000</td>\n",
       "      <td>3247.095000</td>\n",
       "      <td>1.837000</td>\n",
       "    </tr>\n",
       "    <tr>\n",
       "      <th>std</th>\n",
       "      <td>615.017773</td>\n",
       "      <td>0.596667</td>\n",
       "      <td>0.244875</td>\n",
       "      <td>16.866708</td>\n",
       "      <td>32.214079</td>\n",
       "      <td>24.615362</td>\n",
       "      <td>0.382704</td>\n",
       "      <td>20.960207</td>\n",
       "      <td>0.176088</td>\n",
       "      <td>0.438854</td>\n",
       "      <td>0.3028</td>\n",
       "      <td>0.298646</td>\n",
       "      <td>0.920426</td>\n",
       "      <td>0.499809</td>\n",
       "      <td>0.828689</td>\n",
       "      <td>1536.532433</td>\n",
       "      <td>1.445864</td>\n",
       "    </tr>\n",
       "    <tr>\n",
       "      <th>min</th>\n",
       "      <td>-1.000000</td>\n",
       "      <td>2.200000</td>\n",
       "      <td>0.000000</td>\n",
       "      <td>28.000000</td>\n",
       "      <td>68.000000</td>\n",
       "      <td>28.000000</td>\n",
       "      <td>0.000000</td>\n",
       "      <td>-1.000000</td>\n",
       "      <td>0.000000</td>\n",
       "      <td>0.000000</td>\n",
       "      <td>0.0000</td>\n",
       "      <td>0.000000</td>\n",
       "      <td>0.000000</td>\n",
       "      <td>0.000000</td>\n",
       "      <td>0.000000</td>\n",
       "      <td>162.000000</td>\n",
       "      <td>0.000000</td>\n",
       "    </tr>\n",
       "    <tr>\n",
       "      <th>25%</th>\n",
       "      <td>1967.000000</td>\n",
       "      <td>3.300000</td>\n",
       "      <td>0.000000</td>\n",
       "      <td>40.000000</td>\n",
       "      <td>72.000000</td>\n",
       "      <td>56.000000</td>\n",
       "      <td>0.000000</td>\n",
       "      <td>20.000000</td>\n",
       "      <td>0.000000</td>\n",
       "      <td>0.000000</td>\n",
       "      <td>0.0000</td>\n",
       "      <td>0.000000</td>\n",
       "      <td>0.000000</td>\n",
       "      <td>0.000000</td>\n",
       "      <td>0.000000</td>\n",
       "      <td>2213.000000</td>\n",
       "      <td>0.000000</td>\n",
       "    </tr>\n",
       "    <tr>\n",
       "      <th>50%</th>\n",
       "      <td>1967.000000</td>\n",
       "      <td>3.300000</td>\n",
       "      <td>0.000000</td>\n",
       "      <td>40.000000</td>\n",
       "      <td>77.000000</td>\n",
       "      <td>56.000000</td>\n",
       "      <td>0.000000</td>\n",
       "      <td>53.000000</td>\n",
       "      <td>0.000000</td>\n",
       "      <td>0.000000</td>\n",
       "      <td>0.0000</td>\n",
       "      <td>0.000000</td>\n",
       "      <td>0.000000</td>\n",
       "      <td>1.000000</td>\n",
       "      <td>1.000000</td>\n",
       "      <td>3099.500000</td>\n",
       "      <td>3.000000</td>\n",
       "    </tr>\n",
       "    <tr>\n",
       "      <th>75%</th>\n",
       "      <td>1989.000000</td>\n",
       "      <td>4.000000</td>\n",
       "      <td>0.000000</td>\n",
       "      <td>54.000000</td>\n",
       "      <td>102.000000</td>\n",
       "      <td>78.500000</td>\n",
       "      <td>0.000000</td>\n",
       "      <td>53.000000</td>\n",
       "      <td>0.000000</td>\n",
       "      <td>1.000000</td>\n",
       "      <td>0.0000</td>\n",
       "      <td>0.000000</td>\n",
       "      <td>2.000000</td>\n",
       "      <td>1.000000</td>\n",
       "      <td>2.000000</td>\n",
       "      <td>4266.000000</td>\n",
       "      <td>3.000000</td>\n",
       "    </tr>\n",
       "    <tr>\n",
       "      <th>max</th>\n",
       "      <td>2016.000000</td>\n",
       "      <td>5.000000</td>\n",
       "      <td>1.000000</td>\n",
       "      <td>119.000000</td>\n",
       "      <td>203.000000</td>\n",
       "      <td>136.000000</td>\n",
       "      <td>1.000000</td>\n",
       "      <td>179.000000</td>\n",
       "      <td>1.000000</td>\n",
       "      <td>1.000000</td>\n",
       "      <td>1.0000</td>\n",
       "      <td>3.000000</td>\n",
       "      <td>2.000000</td>\n",
       "      <td>1.000000</td>\n",
       "      <td>3.000000</td>\n",
       "      <td>8569.000000</td>\n",
       "      <td>3.000000</td>\n",
       "    </tr>\n",
       "  </tbody>\n",
       "</table>\n",
       "</div>"
      ],
      "text/plain": [
       "           Founded       Rating       hourly   min_salary   max_salary  \\\n",
       "count  1000.000000  1000.000000  1000.000000  1000.000000  1000.000000   \n",
       "mean   1764.986000     3.689300     0.064000    47.238000    92.094000   \n",
       "std     615.017773     0.596667     0.244875    16.866708    32.214079   \n",
       "min      -1.000000     2.200000     0.000000    28.000000    68.000000   \n",
       "25%    1967.000000     3.300000     0.000000    40.000000    72.000000   \n",
       "50%    1967.000000     3.300000     0.000000    40.000000    77.000000   \n",
       "75%    1989.000000     4.000000     0.000000    54.000000   102.000000   \n",
       "max    2016.000000     5.000000     1.000000   119.000000   203.000000   \n",
       "\n",
       "        avg_salary   same_state          age        spark          aws  \\\n",
       "count  1000.000000  1000.000000  1000.000000  1000.000000  1000.000000   \n",
       "mean     67.874000     0.178000    36.638000     0.032000     0.260000   \n",
       "std      24.615362     0.382704    20.960207     0.176088     0.438854   \n",
       "min      28.000000     0.000000    -1.000000     0.000000     0.000000   \n",
       "25%      56.000000     0.000000    20.000000     0.000000     0.000000   \n",
       "50%      56.000000     0.000000    53.000000     0.000000     0.000000   \n",
       "75%      78.500000     0.000000    53.000000     0.000000     1.000000   \n",
       "max     136.000000     1.000000   179.000000     1.000000     1.000000   \n",
       "\n",
       "       python_yn       phd_dg    master_dg  bachelor_dg       skills  \\\n",
       "count  1000.0000  1000.000000  1000.000000  1000.000000  1000.000000   \n",
       "mean      0.1020     0.030000     0.608000     0.521000     0.969000   \n",
       "std       0.3028     0.298646     0.920426     0.499809     0.828689   \n",
       "min       0.0000     0.000000     0.000000     0.000000     0.000000   \n",
       "25%       0.0000     0.000000     0.000000     0.000000     0.000000   \n",
       "50%       0.0000     0.000000     0.000000     1.000000     1.000000   \n",
       "75%       0.0000     0.000000     2.000000     1.000000     2.000000   \n",
       "max       1.0000     3.000000     2.000000     1.000000     3.000000   \n",
       "\n",
       "          desc_len     num_comp  \n",
       "count  1000.000000  1000.000000  \n",
       "mean   3247.095000     1.837000  \n",
       "std    1536.532433     1.445864  \n",
       "min     162.000000     0.000000  \n",
       "25%    2213.000000     0.000000  \n",
       "50%    3099.500000     3.000000  \n",
       "75%    4266.000000     3.000000  \n",
       "max    8569.000000     3.000000  "
      ]
     },
     "execution_count": 19,
     "metadata": {},
     "output_type": "execute_result"
    }
   ],
   "source": [
    "df.describe()"
   ]
  },
  {
   "cell_type": "code",
   "execution_count": 20,
   "metadata": {
    "scrolled": true
   },
   "outputs": [
    {
     "data": {
      "text/plain": [
       "Index(['Company Name', 'Competitors', 'Founded', 'Headquarters', 'Industry',\n",
       "       'Job Description', 'Job Title', 'Location', 'Rating', 'Revenue',\n",
       "       'Salary Estimate', 'Sector', 'Size', 'Type of ownership', 'hourly',\n",
       "       'min_salary', 'max_salary', 'avg_salary', 'company_txt', 'job_state',\n",
       "       'same_state', 'age', 'spark', 'aws', 'python_yn', 'phd_dg', 'master_dg',\n",
       "       'bachelor_dg', 'skills', 'job_simp', 'seniority', 'desc_len',\n",
       "       'num_comp'],\n",
       "      dtype='object')"
      ]
     },
     "execution_count": 20,
     "metadata": {},
     "output_type": "execute_result"
    }
   ],
   "source": [
    "df.columns"
   ]
  },
  {
   "cell_type": "markdown",
   "metadata": {},
   "source": [
    "## Analysing how different columns can evolve"
   ]
  },
  {
   "cell_type": "code",
   "execution_count": 21,
   "metadata": {
    "scrolled": true
   },
   "outputs": [
    {
     "data": {
      "text/plain": [
       "<matplotlib.axes._subplots.AxesSubplot at 0x2139feffd08>"
      ]
     },
     "execution_count": 21,
     "metadata": {},
     "output_type": "execute_result"
    },
    {
     "data": {
      "image/png": "[encoded data removed]",
      "text/plain": [
       "<Figure size 432x288 with 1 Axes>"
      ]
     },
     "metadata": {
      "needs_background": "light"
     },
     "output_type": "display_data"
    }
   ],
   "source": [
    "df.Rating.hist()"
   ]
  },
  {
   "cell_type": "markdown",
   "metadata": {},
   "source": [
    "The majority of the collected data have been rated as a 3 stars."
   ]
  },
  {
   "cell_type": "code",
   "execution_count": 22,
   "metadata": {
    "scrolled": false
   },
   "outputs": [
    {
     "data": {
      "text/plain": [
       "<matplotlib.axes._subplots.AxesSubplot at 0x2139ffee5c8>"
      ]
     },
     "execution_count": 22,
     "metadata": {},
     "output_type": "execute_result"
    },
    {
     "data": {
      "image/png": "[encoded data removed]",
      "text/plain": [
       "<Figure size 432x288 with 1 Axes>"
      ]
     },
     "metadata": {
      "needs_background": "light"
     },
     "output_type": "display_data"
    }
   ],
   "source": [
    "df.avg_salary.hist()"
   ]
  },
  {
   "cell_type": "markdown",
   "metadata": {},
   "source": [
    "The majority of the jobs collected are paid around 50K annually, but some can get more than the double of it. The data is quite spread out."
   ]
  },
  {
   "cell_type": "code",
   "execution_count": 23,
   "metadata": {
    "scrolled": true
   },
   "outputs": [
    {
     "data": {
      "text/plain": [
       "<matplotlib.axes._subplots.AxesSubplot at 0x2139ffee188>"
      ]
     },
     "execution_count": 23,
     "metadata": {},
     "output_type": "execute_result"
    },
    {
     "data": {
      "image/png": "[encoded data removed]",
      "text/plain": [
       "<Figure size 432x288 with 1 Axes>"
      ]
     },
     "metadata": {
      "needs_background": "light"
     },
     "output_type": "display_data"
    }
   ],
   "source": [
    "df.age.hist()"
   ]
  },
  {
   "cell_type": "markdown",
   "metadata": {},
   "source": [
    "Most of the age collected data is within a range of 75 years."
   ]
  },
  {
   "cell_type": "code",
   "execution_count": 24,
   "metadata": {
    "scrolled": true
   },
   "outputs": [
    {
     "data": {
      "text/plain": [
       "<matplotlib.axes._subplots.AxesSubplot at 0x2139ff95d08>"
      ]
     },
     "execution_count": 24,
     "metadata": {},
     "output_type": "execute_result"
    },
    {
     "data": {
      "image/png": "[encoded data removed]",
      "text/plain": [
       "<Figure size 432x288 with 1 Axes>"
      ]
     },
     "metadata": {
      "needs_background": "light"
     },
     "output_type": "display_data"
    }
   ],
   "source": [
    "df.desc_len.hist()"
   ]
  },
  {
   "cell_type": "markdown",
   "metadata": {},
   "source": [
    "The job descriptions are quite homogeneous."
   ]
  },
  {
   "cell_type": "code",
   "execution_count": 25,
   "metadata": {
    "scrolled": true
   },
   "outputs": [
    {
     "data": {
      "text/plain": [
       "<matplotlib.axes._subplots.AxesSubplot at 0x21390aca088>"
      ]
     },
     "execution_count": 25,
     "metadata": {},
     "output_type": "execute_result"
    },
    {
     "data": {
      "image/png": "[encoded data removed]",
      "text/plain": [
       "<Figure size 432x288 with 1 Axes>"
      ]
     },
     "metadata": {
      "needs_background": "light"
     },
     "output_type": "display_data"
    }
   ],
   "source": [
    "df.skills.hist()"
   ]
  },
  {
   "cell_type": "markdown",
   "metadata": {},
   "source": [
    "From the one hot encoding i made (Bachelor, Master, PhD) we can see that most of the jobs requier at most a Master and even only years of experiences in the field are needed. In the other hand, PhD doesnt seem to be a must have degree for most of the job collected."
   ]
  },
  {
   "cell_type": "markdown",
   "metadata": {},
   "source": [
    "## Getting a better idea of how values are spread within a columns"
   ]
  },
  {
   "cell_type": "code",
   "execution_count": 26,
   "metadata": {
    "scrolled": true
   },
   "outputs": [
    {
     "data": {
      "text/plain": [
       "<matplotlib.axes._subplots.AxesSubplot at 0x213a0207048>"
      ]
     },
     "execution_count": 26,
     "metadata": {},
     "output_type": "execute_result"
    },
    {
     "data": {
      "image/png": "[encoded data removed]",
      "text/plain": [
       "<Figure size 432x288 with 1 Axes>"
      ]
     },
     "metadata": {
      "needs_background": "light"
     },
     "output_type": "display_data"
    }
   ],
   "source": [
    "df.boxplot(column = ['desc_len'])"
   ]
  },
  {
   "cell_type": "code",
   "execution_count": 27,
   "metadata": {
    "scrolled": true
   },
   "outputs": [
    {
     "data": {
      "text/plain": [
       "<matplotlib.axes._subplots.AxesSubplot at 0x213a0285bc8>"
      ]
     },
     "execution_count": 27,
     "metadata": {},
     "output_type": "execute_result"
    },
    {
     "data": {
      "image/png": "[encoded data removed]",
      "text/plain": [
       "<Figure size 432x288 with 1 Axes>"
      ]
     },
     "metadata": {
      "needs_background": "light"
     },
     "output_type": "display_data"
    }
   ],
   "source": [
    "df.boxplot(column = ['skills'])"
   ]
  },
  {
   "cell_type": "code",
   "execution_count": 28,
   "metadata": {
    "scrolled": true
   },
   "outputs": [
    {
     "data": {
      "text/plain": [
       "<matplotlib.axes._subplots.AxesSubplot at 0x213a02fd3c8>"
      ]
     },
     "execution_count": 28,
     "metadata": {},
     "output_type": "execute_result"
    },
    {
     "data": {
      "image/png": "[encoded data removed]",
      "text/plain": [
       "<Figure size 432x288 with 1 Axes>"
      ]
     },
     "metadata": {
      "needs_background": "light"
     },
     "output_type": "display_data"
    }
   ],
   "source": [
    "df.boxplot(column = ['avg_salary','age'])"
   ]
  },
  {
   "cell_type": "markdown",
   "metadata": {},
   "source": [
    "## Correlation between numerical Data"
   ]
  },
  {
   "cell_type": "code",
   "execution_count": 29,
   "metadata": {
    "scrolled": true
   },
   "outputs": [
    {
     "data": {
      "text/html": [
       "<div>\n",
       "<style scoped>\n",
       "    .dataframe tbody tr th:only-of-type {\n",
       "        vertical-align: middle;\n",
       "    }\n",
       "\n",
       "    .dataframe tbody tr th {\n",
       "        vertical-align: top;\n",
       "    }\n",
       "\n",
       "    .dataframe thead th {\n",
       "        text-align: right;\n",
       "    }\n",
       "</style>\n",
       "<table border=\"1\" class=\"dataframe\">\n",
       "  <thead>\n",
       "    <tr style=\"text-align: right;\">\n",
       "      <th></th>\n",
       "      <th>age</th>\n",
       "      <th>avg_salary</th>\n",
       "      <th>Rating</th>\n",
       "      <th>desc_len</th>\n",
       "      <th>num_comp</th>\n",
       "      <th>skills</th>\n",
       "    </tr>\n",
       "  </thead>\n",
       "  <tbody>\n",
       "    <tr>\n",
       "      <th>age</th>\n",
       "      <td>1.000000</td>\n",
       "      <td>0.049491</td>\n",
       "      <td>-0.646953</td>\n",
       "      <td>0.132438</td>\n",
       "      <td>0.740901</td>\n",
       "      <td>0.000102</td>\n",
       "    </tr>\n",
       "    <tr>\n",
       "      <th>avg_salary</th>\n",
       "      <td>0.049491</td>\n",
       "      <td>1.000000</td>\n",
       "      <td>-0.067548</td>\n",
       "      <td>0.018639</td>\n",
       "      <td>0.042454</td>\n",
       "      <td>0.030184</td>\n",
       "    </tr>\n",
       "    <tr>\n",
       "      <th>Rating</th>\n",
       "      <td>-0.646953</td>\n",
       "      <td>-0.067548</td>\n",
       "      <td>1.000000</td>\n",
       "      <td>-0.104621</td>\n",
       "      <td>-0.461856</td>\n",
       "      <td>0.113508</td>\n",
       "    </tr>\n",
       "    <tr>\n",
       "      <th>desc_len</th>\n",
       "      <td>0.132438</td>\n",
       "      <td>0.018639</td>\n",
       "      <td>-0.104621</td>\n",
       "      <td>1.000000</td>\n",
       "      <td>0.165485</td>\n",
       "      <td>0.273298</td>\n",
       "    </tr>\n",
       "    <tr>\n",
       "      <th>num_comp</th>\n",
       "      <td>0.740901</td>\n",
       "      <td>0.042454</td>\n",
       "      <td>-0.461856</td>\n",
       "      <td>0.165485</td>\n",
       "      <td>1.000000</td>\n",
       "      <td>-0.065209</td>\n",
       "    </tr>\n",
       "    <tr>\n",
       "      <th>skills</th>\n",
       "      <td>0.000102</td>\n",
       "      <td>0.030184</td>\n",
       "      <td>0.113508</td>\n",
       "      <td>0.273298</td>\n",
       "      <td>-0.065209</td>\n",
       "      <td>1.000000</td>\n",
       "    </tr>\n",
       "  </tbody>\n",
       "</table>\n",
       "</div>"
      ],
      "text/plain": [
       "                 age  avg_salary    Rating  desc_len  num_comp    skills\n",
       "age         1.000000    0.049491 -0.646953  0.132438  0.740901  0.000102\n",
       "avg_salary  0.049491    1.000000 -0.067548  0.018639  0.042454  0.030184\n",
       "Rating     -0.646953   -0.067548  1.000000 -0.104621 -0.461856  0.113508\n",
       "desc_len    0.132438    0.018639 -0.104621  1.000000  0.165485  0.273298\n",
       "num_comp    0.740901    0.042454 -0.461856  0.165485  1.000000 -0.065209\n",
       "skills      0.000102    0.030184  0.113508  0.273298 -0.065209  1.000000"
      ]
     },
     "execution_count": 29,
     "metadata": {},
     "output_type": "execute_result"
    }
   ],
   "source": [
    "df[['age','avg_salary','Rating','desc_len','num_comp','skills']].corr()"
   ]
  },
  {
   "cell_type": "markdown",
   "metadata": {},
   "source": [
    "We get interesting values from this correlation data frame :\n",
    "        * The skills requiered seem to be linked to the rating of the company.\n",
    "        * The skills requiered are strongly corrolated to the job description.\n",
    "        * The number of competitor is highly corolated with the age of the company.\n",
    "        * The number of competitor seems to have a negative correlation with the rating.\n",
    "        * The number of competitor also seems to have some link with the average salary and the description length\n",
    "        * The rating seems to have a highly negative correlation with the age of the company\n",
    "\n",
    "We should take good care of the description as a feature for our model. When I think about the correlation between the description and the skills requiered. I can understand that, the most the job is desccribed, the most the compagnies are willing to give a precise profil of the person they are looking for. I m scared that putting the description length as a feature would make a target leakage. The goal is to predict what level of skill will be requiered for a given job. So, in theory we wouldn't have the description yet."
   ]
  },
  {
   "cell_type": "markdown",
   "metadata": {},
   "source": [
    "## Making a heatmap to highlight the correlations"
   ]
  },
  {
   "cell_type": "code",
   "execution_count": 30,
   "metadata": {},
   "outputs": [
    {
     "data": {
      "text/plain": [
       "<matplotlib.axes._subplots.AxesSubplot at 0x213a03e7948>"
      ]
     },
     "execution_count": 30,
     "metadata": {},
     "output_type": "execute_result"
    },
    {
     "data": {
      "image/png": "[encoded data removed]",
      "text/plain": [
       "<Figure size 432x288 with 2 Axes>"
      ]
     },
     "metadata": {
      "needs_background": "light"
     },
     "output_type": "display_data"
    }
   ],
   "source": [
    "cmap = sns.diverging_palette(220, 10, as_cmap=True)\n",
    "sns.heatmap(df[['age','avg_salary','Rating','desc_len','num_comp','skills']].corr(),vmax=.3, center=0, cmap=cmap,\n",
    "            square=True, linewidths=.5, cbar_kws={\"shrink\": .5})"
   ]
  },
  {
   "cell_type": "code",
   "execution_count": 31,
   "metadata": {},
   "outputs": [
    {
     "data": {
      "text/plain": [
       "Index(['Company Name', 'Competitors', 'Founded', 'Headquarters', 'Industry',\n",
       "       'Job Description', 'Job Title', 'Location', 'Rating', 'Revenue',\n",
       "       'Salary Estimate', 'Sector', 'Size', 'Type of ownership', 'hourly',\n",
       "       'min_salary', 'max_salary', 'avg_salary', 'company_txt', 'job_state',\n",
       "       'same_state', 'age', 'spark', 'aws', 'python_yn', 'phd_dg', 'master_dg',\n",
       "       'bachelor_dg', 'skills', 'job_simp', 'seniority', 'desc_len',\n",
       "       'num_comp'],\n",
       "      dtype='object')"
      ]
     },
     "execution_count": 31,
     "metadata": {},
     "output_type": "execute_result"
    }
   ],
   "source": [
    "df.columns"
   ]
  },
  {
   "cell_type": "markdown",
   "metadata": {},
   "source": [
    "## Correlation between categorical data"
   ]
  },
  {
   "cell_type": "code",
   "execution_count": 32,
   "metadata": {},
   "outputs": [],
   "source": [
    "df_cat = df[['Location', 'Headquarters', 'Size', 'Type of ownership', 'Sector','Industry',\n",
    "    'Revenue', 'company_txt', 'job_state','same_state','spark','aws','python_yn',\n",
    "    'job_simp','seniority']]"
   ]
  },
  {
   "cell_type": "code",
   "execution_count": null,
   "metadata": {
    "scrolled": true
   },
   "outputs": [
    {
     "name": "stdout",
     "output_type": "stream",
     "text": [
      "graph for Location : total = 156\n"
     ]
    },
    {
     "data": {
      "image/png": "[encoded data removed]",
      "text/plain": [
       "<Figure size 432x288 with 1 Axes>"
      ]
     },
     "metadata": {
      "needs_background": "light"
     },
     "output_type": "display_data"
    },
    {
     "name": "stdout",
     "output_type": "stream",
     "text": [
      "graph for Headquarters : total = 77\n"
     ]
    },
    {
     "data": {
      "image/png": "[encoded data removed]",
      "text/plain": [
       "<Figure size 432x288 with 1 Axes>"
      ]
     },
     "metadata": {
      "needs_background": "light"
     },
     "output_type": "display_data"
    },
    {
     "name": "stdout",
     "output_type": "stream",
     "text": [
      "graph for Size : total = 8\n"
     ]
    },
    {
     "data": {
      "image/png": "[encoded data removed]",
      "text/plain": [
       "<Figure size 432x288 with 1 Axes>"
      ]
     },
     "metadata": {
      "needs_background": "light"
     },
     "output_type": "display_data"
    },
    {
     "name": "stdout",
     "output_type": "stream",
     "text": [
      "graph for Type of ownership : total = 6\n"
     ]
    },
    {
     "data": {
      "image/png": "[encoded data removed]",
      "text/plain": [
       "<Figure size 432x288 with 1 Axes>"
      ]
     },
     "metadata": {
      "needs_background": "light"
     },
     "output_type": "display_data"
    },
    {
     "name": "stdout",
     "output_type": "stream",
     "text": [
      "graph for Sector : total = 15\n"
     ]
    },
    {
     "data": {
      "image/png": "[encoded data removed]",
      "text/plain": [
       "<Figure size 432x288 with 1 Axes>"
      ]
     },
     "metadata": {
      "needs_background": "light"
     },
     "output_type": "display_data"
    },
    {
     "name": "stdout",
     "output_type": "stream",
     "text": [
      "graph for Industry : total = 25\n"
     ]
    },
    {
     "data": {
      "image/png": "[encoded data removed]",
      "text/plain": [
       "<Figure size 432x288 with 1 Axes>"
      ]
     },
     "metadata": {
      "needs_background": "light"
     },
     "output_type": "display_data"
    },
    {
     "name": "stdout",
     "output_type": "stream",
     "text": [
      "graph for Revenue : total = 12\n"
     ]
    },
    {
     "data": {
      "image/png": "[encoded data removed]",
      "text/plain": [
       "<Figure size 432x288 with 1 Axes>"
      ]
     },
     "metadata": {
      "needs_background": "light"
     },
     "output_type": "display_data"
    },
    {
     "name": "stdout",
     "output_type": "stream",
     "text": [
      "graph for company_txt : total = 98\n"
     ]
    }
   ],
   "source": [
    "for i in df_cat.columns:\n",
    "    cat_num = df_cat[i].value_counts()\n",
    "    print(\"graph for %s : total = %d\" % (i, len(cat_num)))\n",
    "    chart = sns.barplot(x=cat_num.index, y=cat_num)\n",
    "    chart.set_xticklabels(chart.get_xticklabels(), rotation=90)\n",
    "    plt.show()"
   ]
  },
  {
   "cell_type": "markdown",
   "metadata": {},
   "source": [
    "## Making a top 20 of the hardly readable categorical data"
   ]
  },
  {
   "cell_type": "code",
   "execution_count": null,
   "metadata": {
    "scrolled": true
   },
   "outputs": [],
   "source": [
    "for i in df_cat[['Location','Headquarters','company_txt']].columns:\n",
    "    cat_num = df_cat[i].value_counts()[:20]\n",
    "    print(\"graph for %s : Top %d\" % (i, len(cat_num)))\n",
    "    chart = sns.barplot(x=cat_num.index, y=cat_num)\n",
    "    chart.set_xticklabels(chart.get_xticklabels(), rotation=90)\n",
    "    plt.show()"
   ]
  },
  {
   "cell_type": "code",
   "execution_count": null,
   "metadata": {},
   "outputs": [],
   "source": [
    "df.columns"
   ]
  },
  {
   "cell_type": "markdown",
   "metadata": {},
   "source": [
    "## Making pivot table for a better understanding of the correlation between categorical data"
   ]
  },
  {
   "cell_type": "markdown",
   "metadata": {},
   "source": [
    "### Correlation between the job and the skill level\n",
    "Data scientist seems to be the job requiring the highest skill level."
   ]
  },
  {
   "cell_type": "code",
   "execution_count": null,
   "metadata": {
    "scrolled": true
   },
   "outputs": [],
   "source": [
    "pd.pivot_table(df, index = 'job_simp', values = \"skills\")"
   ]
  },
  {
   "cell_type": "code",
   "execution_count": null,
   "metadata": {},
   "outputs": [],
   "source": [
    "pd.options.display.max_rows\n",
    "pd.set_option('display.max_rows', None)"
   ]
  },
  {
   "cell_type": "markdown",
   "metadata": {},
   "source": [
    "### Pivot Table linking the state need for type of job and competence"
   ]
  },
  {
   "cell_type": "code",
   "execution_count": null,
   "metadata": {
    "scrolled": true
   },
   "outputs": [],
   "source": [
    "pd.pivot_table(df, index = ['job_state','job_simp'], values = \"skills\").sort_values('job_state',ascending = False)"
   ]
  },
  {
   "cell_type": "markdown",
   "metadata": {},
   "source": [
    "### Directly linking the state to its competence need"
   ]
  },
  {
   "cell_type": "code",
   "execution_count": null,
   "metadata": {
    "scrolled": true
   },
   "outputs": [],
   "source": [
    "pd.pivot_table(df[df.job_simp == 'data scientist'], index = 'job_state', values = \"skills\").sort_values('skills',ascending = False)"
   ]
  },
  {
   "cell_type": "code",
   "execution_count": null,
   "metadata": {},
   "outputs": [],
   "source": [
    "df.columns"
   ]
  },
  {
   "cell_type": "markdown",
   "metadata": {},
   "source": [
    "### Making pivot table for each categorical data and their link with the skills column"
   ]
  },
  {
   "cell_type": "code",
   "execution_count": null,
   "metadata": {},
   "outputs": [],
   "source": [
    "df_pivots = df[['Rating', 'Industry', 'Sector', 'Revenue', 'num_comp',\n",
    "                'hourly', 'python_yn', 'spark', 'aws', 'Type of ownership',\n",
    "                'avg_salary','skills']]"
   ]
  },
  {
   "cell_type": "code",
   "execution_count": null,
   "metadata": {
    "scrolled": true
   },
   "outputs": [],
   "source": [
    "for i in df_pivots.columns:\n",
    "    print(i)\n",
    "    print(pd.pivot_table(df_pivots,index = i, values = 'skills').sort_values('skills',ascending = False))"
   ]
  },
  {
   "cell_type": "markdown",
   "metadata": {},
   "source": [
    "### The need of python mastery, depending of the revenu of the company"
   ]
  },
  {
   "cell_type": "code",
   "execution_count": null,
   "metadata": {
    "scrolled": true
   },
   "outputs": [],
   "source": [
    "pd.pivot_table(df_pivots, index = 'Revenue', columns = 'python_yn', values = 'skills', aggfunc = 'count')"
   ]
  },
  {
   "cell_type": "markdown",
   "metadata": {},
   "source": [
    "## Making a WordCloud using the collected description\n",
    "the output ll be the most used words within the collected data"
   ]
  },
  {
   "cell_type": "code",
   "execution_count": null,
   "metadata": {},
   "outputs": [],
   "source": [
    "from wordcloud import WordCloud, ImageColorGenerator, STOPWORDS\n",
    "from nltk.corpus import stopwords\n",
    "from nltk.tokenize import word_tokenize"
   ]
  },
  {
   "cell_type": "code",
   "execution_count": null,
   "metadata": {},
   "outputs": [],
   "source": [
    "words = \" \".join(df['Job Description'])\n",
    "\n",
    "def punctuation_stop(text):\n",
    "    \"\"\"remove punctuation and stop words\"\"\"\n",
    "    filtered = []\n",
    "    stop_words = set(stopwords.words('english'))\n",
    "    word_tokens = word_tokenize(text)\n",
    "    for w in word_tokens:\n",
    "        if w not in stop_words and w.isalpha():\n",
    "            filtered.append(w.lower())\n",
    "    return filtered\n",
    "\n",
    "\n",
    "words_filtered = punctuation_stop(words)\n",
    "\n",
    "text = \" \".join([ele for ele in words_filtered])\n",
    "\n",
    "wc= WordCloud(background_color=\"white\", random_state=1,stopwords=STOPWORDS, max_words = 2000, width =800, height = 1500)\n",
    "wc.generate(text)\n",
    "\n",
    "plt.figure(figsize=[10,10])\n",
    "plt.imshow(wc,interpolation=\"bilinear\")\n",
    "plt.axis('off')\n",
    "plt.show()"
   ]
  },
  {
   "cell_type": "code",
   "execution_count": null,
   "metadata": {},
   "outputs": [],
   "source": [
    "df.to_csv('eda_data.csv', index = False)"
   ]
  }
 ],
 "metadata": {
  "kernelspec": {
   "display_name": "Python 3",
   "language": "python",
   "name": "python3"
  },
  "language_info": {
   "codemirror_mode": {
    "name": "ipython",
    "version": 3
   },
   "file_extension": ".py",
   "mimetype": "text/x-python",
   "name": "python",
   "nbconvert_exporter": "python",
   "pygments_lexer": "ipython3",
   "version": "3.7.6"
  }
 },
 "nbformat": 4,
 "nbformat_minor": 4
}
